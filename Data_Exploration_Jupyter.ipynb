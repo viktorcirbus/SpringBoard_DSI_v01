{
 "cells": [
  {
   "cell_type": "markdown",
   "metadata": {},
   "source": [
    "# Data Exploration Notebook"
   ]
  },
  {
   "cell_type": "markdown",
   "metadata": {},
   "source": [
    "## Import modules for Data Exploration"
   ]
  },
  {
   "cell_type": "code",
   "execution_count": 11,
   "metadata": {
    "collapsed": true
   },
   "outputs": [],
   "source": [
    "import pandas as pd\n",
    "import numpy as np\n",
    "import matplotlib.pyplot as plt \n",
    "import pandasql\n",
    "from pandasql import sqldf\n",
    "import seaborn as sns"
   ]
  },
  {
   "cell_type": "markdown",
   "metadata": {},
   "source": [
    "## Inline Plotting"
   ]
  },
  {
   "cell_type": "code",
   "execution_count": 10,
   "metadata": {
    "collapsed": true
   },
   "outputs": [],
   "source": [
    "%matplotlib inline"
   ]
  },
  {
   "cell_type": "markdown",
   "metadata": {
    "collapsed": true
   },
   "source": [
    "## Import Data"
   ]
  },
  {
   "cell_type": "code",
   "execution_count": 3,
   "metadata": {
    "collapsed": false
   },
   "outputs": [],
   "source": [
    "Location = r'C:\\Share\\SkyDrive\\SpringBoard_GIT\\SpringBoard_DSI_v01\\Data.csv'\n",
    "df = pd.read_csv(Location,encoding='ISO-8859-1')"
   ]
  },
  {
   "cell_type": "code",
   "execution_count": 4,
   "metadata": {
    "collapsed": false
   },
   "outputs": [
    {
     "data": {
      "text/plain": [
       "(73344, 56)"
      ]
     },
     "execution_count": 4,
     "metadata": {},
     "output_type": "execute_result"
    }
   ],
   "source": [
    "df.shape"
   ]
  },
  {
   "cell_type": "code",
   "execution_count": 5,
   "metadata": {
    "collapsed": false
   },
   "outputs": [
    {
     "data": {
      "text/html": [
       "<div>\n",
       "<table border=\"1\" class=\"dataframe\">\n",
       "  <thead>\n",
       "    <tr style=\"text-align: right;\">\n",
       "      <th></th>\n",
       "      <th>Id</th>\n",
       "      <th>DateIn</th>\n",
       "      <th>Http</th>\n",
       "      <th>Make</th>\n",
       "      <th>Model</th>\n",
       "      <th>Body</th>\n",
       "      <th>Fuel</th>\n",
       "      <th>CCM</th>\n",
       "      <th>Tachometer</th>\n",
       "      <th>Automat</th>\n",
       "      <th>...</th>\n",
       "      <th>IsAlloyWheels</th>\n",
       "      <th>IsParkingSensor</th>\n",
       "      <th>IsNavigation</th>\n",
       "      <th>IsRainSensor</th>\n",
       "      <th>IsPanoramicRoof</th>\n",
       "      <th>IsTrailerCoupling</th>\n",
       "      <th>IsCruiseControl</th>\n",
       "      <th>IsHeatedSeats</th>\n",
       "      <th>IsIsoFix</th>\n",
       "      <th>IsNeverDemaged</th>\n",
       "    </tr>\n",
       "  </thead>\n",
       "  <tbody>\n",
       "    <tr>\n",
       "      <th>0</th>\n",
       "      <td>76112740</td>\n",
       "      <td>02-10-2016</td>\n",
       "      <td>http://www.sauto.cz/osobni/detail/peugeot/307/...</td>\n",
       "      <td>Peugeot</td>\n",
       "      <td>307</td>\n",
       "      <td>Combi</td>\n",
       "      <td>Petrol</td>\n",
       "      <td>1587.0</td>\n",
       "      <td>329148.0</td>\n",
       "      <td>Manual</td>\n",
       "      <td>...</td>\n",
       "      <td>NaN</td>\n",
       "      <td>NaN</td>\n",
       "      <td>NaN</td>\n",
       "      <td>NaN</td>\n",
       "      <td>NaN</td>\n",
       "      <td>NaN</td>\n",
       "      <td>NaN</td>\n",
       "      <td>NaN</td>\n",
       "      <td>NaN</td>\n",
       "      <td>NaN</td>\n",
       "    </tr>\n",
       "    <tr>\n",
       "      <th>1</th>\n",
       "      <td>76102112</td>\n",
       "      <td>01-10-2016</td>\n",
       "      <td>http://www.sauto.cz/osobni/detail/renault/mega...</td>\n",
       "      <td>Renault</td>\n",
       "      <td>Megane</td>\n",
       "      <td>Hatchback</td>\n",
       "      <td>Petrol</td>\n",
       "      <td>1598.0</td>\n",
       "      <td>175000.0</td>\n",
       "      <td>Manual</td>\n",
       "      <td>...</td>\n",
       "      <td>NaN</td>\n",
       "      <td>NaN</td>\n",
       "      <td>NaN</td>\n",
       "      <td>NaN</td>\n",
       "      <td>NaN</td>\n",
       "      <td>NaN</td>\n",
       "      <td>NaN</td>\n",
       "      <td>NaN</td>\n",
       "      <td>NaN</td>\n",
       "      <td>NaN</td>\n",
       "    </tr>\n",
       "    <tr>\n",
       "      <th>2</th>\n",
       "      <td>76102055</td>\n",
       "      <td>01-10-2016</td>\n",
       "      <td>http://www.sauto.cz/osobni/detail/skoda/felici...</td>\n",
       "      <td>Skoda</td>\n",
       "      <td>Felicia</td>\n",
       "      <td>Hatchback</td>\n",
       "      <td>Petrol</td>\n",
       "      <td>1300.0</td>\n",
       "      <td>94982.0</td>\n",
       "      <td>Manual</td>\n",
       "      <td>...</td>\n",
       "      <td>NaN</td>\n",
       "      <td>NaN</td>\n",
       "      <td>NaN</td>\n",
       "      <td>NaN</td>\n",
       "      <td>NaN</td>\n",
       "      <td>NaN</td>\n",
       "      <td>NaN</td>\n",
       "      <td>NaN</td>\n",
       "      <td>NaN</td>\n",
       "      <td>NaN</td>\n",
       "    </tr>\n",
       "    <tr>\n",
       "      <th>3</th>\n",
       "      <td>76107602</td>\n",
       "      <td>01-10-2016</td>\n",
       "      <td>http://www.sauto.cz/osobni/detail/citroen/saxo...</td>\n",
       "      <td>Citroen</td>\n",
       "      <td>Saxo</td>\n",
       "      <td>Hatchback</td>\n",
       "      <td>Petrol</td>\n",
       "      <td>1124.0</td>\n",
       "      <td>16900.0</td>\n",
       "      <td>Manual</td>\n",
       "      <td>...</td>\n",
       "      <td>NaN</td>\n",
       "      <td>NaN</td>\n",
       "      <td>NaN</td>\n",
       "      <td>NaN</td>\n",
       "      <td>NaN</td>\n",
       "      <td>NaN</td>\n",
       "      <td>NaN</td>\n",
       "      <td>NaN</td>\n",
       "      <td>NaN</td>\n",
       "      <td>NaN</td>\n",
       "    </tr>\n",
       "    <tr>\n",
       "      <th>4</th>\n",
       "      <td>76112710</td>\n",
       "      <td>01-10-2016</td>\n",
       "      <td>http://www.sauto.cz/osobni/detail/volkswagen/p...</td>\n",
       "      <td>VW</td>\n",
       "      <td>Passat</td>\n",
       "      <td>Sedan/Saloon</td>\n",
       "      <td>LPG</td>\n",
       "      <td>1781.0</td>\n",
       "      <td>264000.0</td>\n",
       "      <td>Manual</td>\n",
       "      <td>...</td>\n",
       "      <td>1.0</td>\n",
       "      <td>NaN</td>\n",
       "      <td>NaN</td>\n",
       "      <td>NaN</td>\n",
       "      <td>NaN</td>\n",
       "      <td>NaN</td>\n",
       "      <td>NaN</td>\n",
       "      <td>NaN</td>\n",
       "      <td>NaN</td>\n",
       "      <td>NaN</td>\n",
       "    </tr>\n",
       "  </tbody>\n",
       "</table>\n",
       "<p>5 rows × 56 columns</p>\n",
       "</div>"
      ],
      "text/plain": [
       "         Id      DateIn                                               Http  \\\n",
       "0  76112740  02-10-2016  http://www.sauto.cz/osobni/detail/peugeot/307/...   \n",
       "1  76102112  01-10-2016  http://www.sauto.cz/osobni/detail/renault/mega...   \n",
       "2  76102055  01-10-2016  http://www.sauto.cz/osobni/detail/skoda/felici...   \n",
       "3  76107602  01-10-2016  http://www.sauto.cz/osobni/detail/citroen/saxo...   \n",
       "4  76112710  01-10-2016  http://www.sauto.cz/osobni/detail/volkswagen/p...   \n",
       "\n",
       "      Make    Model          Body    Fuel     CCM  Tachometer Automat  \\\n",
       "0  Peugeot      307         Combi  Petrol  1587.0    329148.0  Manual   \n",
       "1  Renault   Megane     Hatchback  Petrol  1598.0    175000.0  Manual   \n",
       "2    Skoda  Felicia     Hatchback  Petrol  1300.0     94982.0  Manual   \n",
       "3  Citroen     Saxo     Hatchback  Petrol  1124.0     16900.0  Manual   \n",
       "4       VW   Passat  Sedan/Saloon     LPG  1781.0    264000.0  Manual   \n",
       "\n",
       "        ...        IsAlloyWheels  IsParkingSensor  IsNavigation  IsRainSensor  \\\n",
       "0       ...                  NaN              NaN           NaN           NaN   \n",
       "1       ...                  NaN              NaN           NaN           NaN   \n",
       "2       ...                  NaN              NaN           NaN           NaN   \n",
       "3       ...                  NaN              NaN           NaN           NaN   \n",
       "4       ...                  1.0              NaN           NaN           NaN   \n",
       "\n",
       "  IsPanoramicRoof IsTrailerCoupling IsCruiseControl IsHeatedSeats IsIsoFix  \\\n",
       "0             NaN               NaN             NaN           NaN      NaN   \n",
       "1             NaN               NaN             NaN           NaN      NaN   \n",
       "2             NaN               NaN             NaN           NaN      NaN   \n",
       "3             NaN               NaN             NaN           NaN      NaN   \n",
       "4             NaN               NaN             NaN           NaN      NaN   \n",
       "\n",
       "   IsNeverDemaged  \n",
       "0             NaN  \n",
       "1             NaN  \n",
       "2             NaN  \n",
       "3             NaN  \n",
       "4             NaN  \n",
       "\n",
       "[5 rows x 56 columns]"
      ]
     },
     "execution_count": 5,
     "metadata": {},
     "output_type": "execute_result"
    }
   ],
   "source": [
    "df.head(5)"
   ]
  },
  {
   "cell_type": "markdown",
   "metadata": {},
   "source": [
    "## Attributes exploration"
   ]
  },
  {
   "cell_type": "code",
   "execution_count": 6,
   "metadata": {
    "collapsed": false
   },
   "outputs": [
    {
     "data": {
      "text/plain": [
       "Id                     int64\n",
       "DateIn                object\n",
       "Http                  object\n",
       "Make                  object\n",
       "Model                 object\n",
       "Body                  object\n",
       "Fuel                  object\n",
       "CCM                  float64\n",
       "Tachometer           float64\n",
       "Automat               object\n",
       "Year                 float64\n",
       "Price                float64\n",
       "Region               float64\n",
       "Privat               float64\n",
       "Drive                 object\n",
       "CountryCode           object\n",
       "Currency              object\n",
       "PostalCode            object\n",
       "City                  object\n",
       "PriceOrig              int64\n",
       "CurrencyOrig          object\n",
       "Power                float64\n",
       "Airbags              float64\n",
       "AirconditionId       float64\n",
       "Doors                float64\n",
       "Emissions            float64\n",
       "IsFirstOwner         float64\n",
       "IsServiceBook          int64\n",
       "Seats                float64\n",
       "STK                   object\n",
       "Title                 object\n",
       "PrivateSynth           int64\n",
       "Category               int64\n",
       "SellerNameID         float64\n",
       "DateInWeb             object\n",
       "Euro                  object\n",
       "Consumption           object\n",
       "IsVat                float64\n",
       "IsXenon              float64\n",
       "IsGPS                float64\n",
       "IsInLeather          float64\n",
       "CountryOfOrigin       object\n",
       "IsEcoTax             float64\n",
       "IsABS                float64\n",
       "IsESP                float64\n",
       "IsLeasing            float64\n",
       "IsAlloyWheels        float64\n",
       "IsParkingSensor      float64\n",
       "IsNavigation         float64\n",
       "IsRainSensor         float64\n",
       "IsPanoramicRoof      float64\n",
       "IsTrailerCoupling    float64\n",
       "IsCruiseControl      float64\n",
       "IsHeatedSeats        float64\n",
       "IsIsoFix             float64\n",
       "IsNeverDemaged       float64\n",
       "dtype: object"
      ]
     },
     "execution_count": 6,
     "metadata": {},
     "output_type": "execute_result"
    }
   ],
   "source": [
    "df.dtypes"
   ]
  },
  {
   "cell_type": "markdown",
   "metadata": {},
   "source": [
    "## Function for plotting correlations"
   ]
  },
  {
   "cell_type": "code",
   "execution_count": 26,
   "metadata": {
    "collapsed": true
   },
   "outputs": [],
   "source": [
    "def plot_corr(df, size):\n",
    "    \"\"\"\n",
    "    Function plots a graphical correlation matrix for each pair of columns in the dataframe.\n",
    "\n",
    "    Input:\n",
    "        df: pandas DataFrame\n",
    "        size: vertical and horizontal size of the plot\n",
    "\n",
    "    Displays:\n",
    "        matrix of correlation between columns.  Blue-cyan-yellow-red-darkred => less to more correlated\n",
    "                                                0 ------------------>  1\n",
    "                                                Expect a darkred line running from top left to bottom right\n",
    "    \"\"\"\n",
    "\n",
    "    corr = df.corr()    # data frame correlation function\n",
    "    fig, ax = plt.subplots(figsize=(size, size))\n",
    "    ax.matshow(corr)   # color code the rectangles by correlation value\n",
    "    plt.xticks(range(len(corr.columns)), corr.columns)  # draw x tick marks\n",
    "    plt.yticks(range(len(corr.columns)), corr.columns)  # draw y tick marks"
   ]
  },
  {
   "cell_type": "markdown",
   "metadata": {},
   "source": [
    "## Take only numeric columns:"
   ]
  },
  {
   "cell_type": "code",
   "execution_count": 17,
   "metadata": {
    "collapsed": false
   },
   "outputs": [],
   "source": [
    "df_numeric= df.select_dtypes(include=['float64'])"
   ]
  },
  {
   "cell_type": "markdown",
   "metadata": {},
   "source": [
    "## Plot correlations for first 11 columns:"
   ]
  },
  {
   "cell_type": "code",
   "execution_count": 27,
   "metadata": {
    "collapsed": false
   },
   "outputs": [
    {
     "data": {
      "image/png": "[encoded data removed]",
      "text/plain": [
       "<matplotlib.figure.Figure at 0x23b00124940>"
      ]
     },
     "metadata": {},
     "output_type": "display_data"
    }
   ],
   "source": [
    "plot_corr(df_numeric.iloc[:,1:12],11)"
   ]
  },
  {
   "cell_type": "markdown",
   "metadata": {},
   "source": [
    "## Compute correlations for first 11 columns:"
   ]
  },
  {
   "cell_type": "code",
   "execution_count": 25,
   "metadata": {
    "collapsed": false
   },
   "outputs": [
    {
     "data": {
      "text/html": [
       "<div>\n",
       "<table border=\"1\" class=\"dataframe\">\n",
       "  <thead>\n",
       "    <tr style=\"text-align: right;\">\n",
       "      <th></th>\n",
       "      <th>Tachometer</th>\n",
       "      <th>Year</th>\n",
       "      <th>Price</th>\n",
       "      <th>Region</th>\n",
       "      <th>Privat</th>\n",
       "      <th>Power</th>\n",
       "      <th>Airbags</th>\n",
       "      <th>AirconditionId</th>\n",
       "      <th>Doors</th>\n",
       "      <th>Emissions</th>\n",
       "      <th>IsFirstOwner</th>\n",
       "    </tr>\n",
       "  </thead>\n",
       "  <tbody>\n",
       "    <tr>\n",
       "      <th>Tachometer</th>\n",
       "      <td>1.000000</td>\n",
       "      <td>-0.046430</td>\n",
       "      <td>-0.381926</td>\n",
       "      <td>-0.028284</td>\n",
       "      <td>0.126010</td>\n",
       "      <td>-0.074077</td>\n",
       "      <td>-0.122459</td>\n",
       "      <td>-0.007687</td>\n",
       "      <td>-0.004808</td>\n",
       "      <td>NaN</td>\n",
       "      <td>-0.231253</td>\n",
       "    </tr>\n",
       "    <tr>\n",
       "      <th>Year</th>\n",
       "      <td>-0.046430</td>\n",
       "      <td>1.000000</td>\n",
       "      <td>0.037661</td>\n",
       "      <td>0.000652</td>\n",
       "      <td>-0.008145</td>\n",
       "      <td>0.011821</td>\n",
       "      <td>0.016175</td>\n",
       "      <td>0.007012</td>\n",
       "      <td>-0.006143</td>\n",
       "      <td>NaN</td>\n",
       "      <td>0.014112</td>\n",
       "    </tr>\n",
       "    <tr>\n",
       "      <th>Price</th>\n",
       "      <td>-0.381926</td>\n",
       "      <td>0.037661</td>\n",
       "      <td>1.000000</td>\n",
       "      <td>-0.000572</td>\n",
       "      <td>-0.049931</td>\n",
       "      <td>0.539517</td>\n",
       "      <td>0.272769</td>\n",
       "      <td>0.166215</td>\n",
       "      <td>-0.118017</td>\n",
       "      <td>NaN</td>\n",
       "      <td>0.154690</td>\n",
       "    </tr>\n",
       "    <tr>\n",
       "      <th>Region</th>\n",
       "      <td>-0.028284</td>\n",
       "      <td>0.000652</td>\n",
       "      <td>-0.000572</td>\n",
       "      <td>1.000000</td>\n",
       "      <td>-0.011987</td>\n",
       "      <td>-0.007209</td>\n",
       "      <td>0.002061</td>\n",
       "      <td>-0.006086</td>\n",
       "      <td>0.007254</td>\n",
       "      <td>NaN</td>\n",
       "      <td>-0.002300</td>\n",
       "    </tr>\n",
       "    <tr>\n",
       "      <th>Privat</th>\n",
       "      <td>0.126010</td>\n",
       "      <td>-0.008145</td>\n",
       "      <td>-0.049931</td>\n",
       "      <td>-0.011987</td>\n",
       "      <td>1.000000</td>\n",
       "      <td>0.037082</td>\n",
       "      <td>0.034301</td>\n",
       "      <td>0.049661</td>\n",
       "      <td>-0.040037</td>\n",
       "      <td>NaN</td>\n",
       "      <td>-0.071453</td>\n",
       "    </tr>\n",
       "    <tr>\n",
       "      <th>Power</th>\n",
       "      <td>-0.074077</td>\n",
       "      <td>0.011821</td>\n",
       "      <td>0.539517</td>\n",
       "      <td>-0.007209</td>\n",
       "      <td>0.037082</td>\n",
       "      <td>1.000000</td>\n",
       "      <td>0.296995</td>\n",
       "      <td>0.201471</td>\n",
       "      <td>-0.136483</td>\n",
       "      <td>NaN</td>\n",
       "      <td>0.040010</td>\n",
       "    </tr>\n",
       "    <tr>\n",
       "      <th>Airbags</th>\n",
       "      <td>-0.122459</td>\n",
       "      <td>0.016175</td>\n",
       "      <td>0.272769</td>\n",
       "      <td>0.002061</td>\n",
       "      <td>0.034301</td>\n",
       "      <td>0.296995</td>\n",
       "      <td>1.000000</td>\n",
       "      <td>0.268633</td>\n",
       "      <td>0.199697</td>\n",
       "      <td>NaN</td>\n",
       "      <td>0.131254</td>\n",
       "    </tr>\n",
       "    <tr>\n",
       "      <th>AirconditionId</th>\n",
       "      <td>-0.007687</td>\n",
       "      <td>0.007012</td>\n",
       "      <td>0.166215</td>\n",
       "      <td>-0.006086</td>\n",
       "      <td>0.049661</td>\n",
       "      <td>0.201471</td>\n",
       "      <td>0.268633</td>\n",
       "      <td>1.000000</td>\n",
       "      <td>0.002082</td>\n",
       "      <td>NaN</td>\n",
       "      <td>0.006900</td>\n",
       "    </tr>\n",
       "    <tr>\n",
       "      <th>Doors</th>\n",
       "      <td>-0.004808</td>\n",
       "      <td>-0.006143</td>\n",
       "      <td>-0.118017</td>\n",
       "      <td>0.007254</td>\n",
       "      <td>-0.040037</td>\n",
       "      <td>-0.136483</td>\n",
       "      <td>0.199697</td>\n",
       "      <td>0.002082</td>\n",
       "      <td>1.000000</td>\n",
       "      <td>NaN</td>\n",
       "      <td>0.053666</td>\n",
       "    </tr>\n",
       "    <tr>\n",
       "      <th>Emissions</th>\n",
       "      <td>NaN</td>\n",
       "      <td>NaN</td>\n",
       "      <td>NaN</td>\n",
       "      <td>NaN</td>\n",
       "      <td>NaN</td>\n",
       "      <td>NaN</td>\n",
       "      <td>NaN</td>\n",
       "      <td>NaN</td>\n",
       "      <td>NaN</td>\n",
       "      <td>NaN</td>\n",
       "      <td>NaN</td>\n",
       "    </tr>\n",
       "    <tr>\n",
       "      <th>IsFirstOwner</th>\n",
       "      <td>-0.231253</td>\n",
       "      <td>0.014112</td>\n",
       "      <td>0.154690</td>\n",
       "      <td>-0.002300</td>\n",
       "      <td>-0.071453</td>\n",
       "      <td>0.040010</td>\n",
       "      <td>0.131254</td>\n",
       "      <td>0.006900</td>\n",
       "      <td>0.053666</td>\n",
       "      <td>NaN</td>\n",
       "      <td>1.000000</td>\n",
       "    </tr>\n",
       "  </tbody>\n",
       "</table>\n",
       "</div>"
      ],
      "text/plain": [
       "                Tachometer      Year     Price    Region    Privat     Power  \\\n",
       "Tachometer        1.000000 -0.046430 -0.381926 -0.028284  0.126010 -0.074077   \n",
       "Year             -0.046430  1.000000  0.037661  0.000652 -0.008145  0.011821   \n",
       "Price            -0.381926  0.037661  1.000000 -0.000572 -0.049931  0.539517   \n",
       "Region           -0.028284  0.000652 -0.000572  1.000000 -0.011987 -0.007209   \n",
       "Privat            0.126010 -0.008145 -0.049931 -0.011987  1.000000  0.037082   \n",
       "Power            -0.074077  0.011821  0.539517 -0.007209  0.037082  1.000000   \n",
       "Airbags          -0.122459  0.016175  0.272769  0.002061  0.034301  0.296995   \n",
       "AirconditionId   -0.007687  0.007012  0.166215 -0.006086  0.049661  0.201471   \n",
       "Doors            -0.004808 -0.006143 -0.118017  0.007254 -0.040037 -0.136483   \n",
       "Emissions              NaN       NaN       NaN       NaN       NaN       NaN   \n",
       "IsFirstOwner     -0.231253  0.014112  0.154690 -0.002300 -0.071453  0.040010   \n",
       "\n",
       "                 Airbags  AirconditionId     Doors  Emissions  IsFirstOwner  \n",
       "Tachometer     -0.122459       -0.007687 -0.004808        NaN     -0.231253  \n",
       "Year            0.016175        0.007012 -0.006143        NaN      0.014112  \n",
       "Price           0.272769        0.166215 -0.118017        NaN      0.154690  \n",
       "Region          0.002061       -0.006086  0.007254        NaN     -0.002300  \n",
       "Privat          0.034301        0.049661 -0.040037        NaN     -0.071453  \n",
       "Power           0.296995        0.201471 -0.136483        NaN      0.040010  \n",
       "Airbags         1.000000        0.268633  0.199697        NaN      0.131254  \n",
       "AirconditionId  0.268633        1.000000  0.002082        NaN      0.006900  \n",
       "Doors           0.199697        0.002082  1.000000        NaN      0.053666  \n",
       "Emissions            NaN             NaN       NaN        NaN           NaN  \n",
       "IsFirstOwner    0.131254        0.006900  0.053666        NaN      1.000000  "
      ]
     },
     "execution_count": 25,
     "metadata": {},
     "output_type": "execute_result"
    }
   ],
   "source": [
    "df_numeric.iloc[:,1:12].corr()"
   ]
  },
  {
   "cell_type": "markdown",
   "metadata": {},
   "source": [
    "## The only correlation is between price & power"
   ]
  },
  {
   "cell_type": "markdown",
   "metadata": {},
   "source": [
    "## Summary of numeric columns:"
   ]
  },
  {
   "cell_type": "code",
   "execution_count": 28,
   "metadata": {
    "collapsed": false
   },
   "outputs": [
    {
     "name": "stderr",
     "output_type": "stream",
     "text": [
      "C:\\Anaconda3\\lib\\site-packages\\numpy\\lib\\function_base.py:3834: RuntimeWarning: Invalid value encountered in percentile\n",
      "  RuntimeWarning)\n"
     ]
    },
    {
     "data": {
      "text/html": [
       "<div>\n",
       "<table border=\"1\" class=\"dataframe\">\n",
       "  <thead>\n",
       "    <tr style=\"text-align: right;\">\n",
       "      <th></th>\n",
       "      <th>Id</th>\n",
       "      <th>CCM</th>\n",
       "      <th>Tachometer</th>\n",
       "      <th>Year</th>\n",
       "      <th>Price</th>\n",
       "      <th>Region</th>\n",
       "      <th>Privat</th>\n",
       "      <th>PriceOrig</th>\n",
       "      <th>Power</th>\n",
       "      <th>Airbags</th>\n",
       "      <th>...</th>\n",
       "      <th>IsAlloyWheels</th>\n",
       "      <th>IsParkingSensor</th>\n",
       "      <th>IsNavigation</th>\n",
       "      <th>IsRainSensor</th>\n",
       "      <th>IsPanoramicRoof</th>\n",
       "      <th>IsTrailerCoupling</th>\n",
       "      <th>IsCruiseControl</th>\n",
       "      <th>IsHeatedSeats</th>\n",
       "      <th>IsIsoFix</th>\n",
       "      <th>IsNeverDemaged</th>\n",
       "    </tr>\n",
       "  </thead>\n",
       "  <tbody>\n",
       "    <tr>\n",
       "      <th>count</th>\n",
       "      <td>7.334400e+04</td>\n",
       "      <td>73248.000000</td>\n",
       "      <td>7.268200e+04</td>\n",
       "      <td>73338.000000</td>\n",
       "      <td>7.334400e+04</td>\n",
       "      <td>72333.000000</td>\n",
       "      <td>60276.000000</td>\n",
       "      <td>7.334400e+04</td>\n",
       "      <td>72901.00000</td>\n",
       "      <td>65430.000000</td>\n",
       "      <td>...</td>\n",
       "      <td>42865.0</td>\n",
       "      <td>27606.0</td>\n",
       "      <td>15111.0</td>\n",
       "      <td>23501.0</td>\n",
       "      <td>3211.0</td>\n",
       "      <td>12297.0</td>\n",
       "      <td>36490.0</td>\n",
       "      <td>25662.0</td>\n",
       "      <td>15143.0</td>\n",
       "      <td>1607.0</td>\n",
       "    </tr>\n",
       "    <tr>\n",
       "      <th>mean</th>\n",
       "      <td>7.607609e+07</td>\n",
       "      <td>1867.884925</td>\n",
       "      <td>1.275598e+05</td>\n",
       "      <td>2010.488587</td>\n",
       "      <td>3.173593e+05</td>\n",
       "      <td>51.987060</td>\n",
       "      <td>0.058863</td>\n",
       "      <td>3.176128e+05</td>\n",
       "      <td>97.29134</td>\n",
       "      <td>5.523705</td>\n",
       "      <td>...</td>\n",
       "      <td>1.0</td>\n",
       "      <td>1.0</td>\n",
       "      <td>1.0</td>\n",
       "      <td>1.0</td>\n",
       "      <td>1.0</td>\n",
       "      <td>1.0</td>\n",
       "      <td>1.0</td>\n",
       "      <td>1.0</td>\n",
       "      <td>1.0</td>\n",
       "      <td>1.0</td>\n",
       "    </tr>\n",
       "    <tr>\n",
       "      <th>std</th>\n",
       "      <td>2.117273e+04</td>\n",
       "      <td>678.670044</td>\n",
       "      <td>9.635746e+04</td>\n",
       "      <td>110.495126</td>\n",
       "      <td>4.534490e+05</td>\n",
       "      <td>64.133519</td>\n",
       "      <td>0.235369</td>\n",
       "      <td>4.534039e+05</td>\n",
       "      <td>62.12050</td>\n",
       "      <td>2.623404</td>\n",
       "      <td>...</td>\n",
       "      <td>0.0</td>\n",
       "      <td>0.0</td>\n",
       "      <td>0.0</td>\n",
       "      <td>0.0</td>\n",
       "      <td>0.0</td>\n",
       "      <td>0.0</td>\n",
       "      <td>0.0</td>\n",
       "      <td>0.0</td>\n",
       "      <td>0.0</td>\n",
       "      <td>0.0</td>\n",
       "    </tr>\n",
       "    <tr>\n",
       "      <th>min</th>\n",
       "      <td>7.603942e+07</td>\n",
       "      <td>10.000000</td>\n",
       "      <td>0.000000e+00</td>\n",
       "      <td>1998.000000</td>\n",
       "      <td>1.000000e+03</td>\n",
       "      <td>0.000000</td>\n",
       "      <td>0.000000</td>\n",
       "      <td>1.000000e+03</td>\n",
       "      <td>4.00000</td>\n",
       "      <td>1.000000</td>\n",
       "      <td>...</td>\n",
       "      <td>1.0</td>\n",
       "      <td>1.0</td>\n",
       "      <td>1.0</td>\n",
       "      <td>1.0</td>\n",
       "      <td>1.0</td>\n",
       "      <td>1.0</td>\n",
       "      <td>1.0</td>\n",
       "      <td>1.0</td>\n",
       "      <td>1.0</td>\n",
       "      <td>1.0</td>\n",
       "    </tr>\n",
       "    <tr>\n",
       "      <th>25%</th>\n",
       "      <td>7.605776e+07</td>\n",
       "      <td>NaN</td>\n",
       "      <td>NaN</td>\n",
       "      <td>NaN</td>\n",
       "      <td>9.800000e+04</td>\n",
       "      <td>NaN</td>\n",
       "      <td>NaN</td>\n",
       "      <td>9.800000e+04</td>\n",
       "      <td>NaN</td>\n",
       "      <td>NaN</td>\n",
       "      <td>...</td>\n",
       "      <td>NaN</td>\n",
       "      <td>NaN</td>\n",
       "      <td>NaN</td>\n",
       "      <td>NaN</td>\n",
       "      <td>NaN</td>\n",
       "      <td>NaN</td>\n",
       "      <td>NaN</td>\n",
       "      <td>NaN</td>\n",
       "      <td>NaN</td>\n",
       "      <td>NaN</td>\n",
       "    </tr>\n",
       "    <tr>\n",
       "      <th>50%</th>\n",
       "      <td>7.607609e+07</td>\n",
       "      <td>NaN</td>\n",
       "      <td>NaN</td>\n",
       "      <td>NaN</td>\n",
       "      <td>1.980000e+05</td>\n",
       "      <td>NaN</td>\n",
       "      <td>NaN</td>\n",
       "      <td>1.980000e+05</td>\n",
       "      <td>NaN</td>\n",
       "      <td>NaN</td>\n",
       "      <td>...</td>\n",
       "      <td>NaN</td>\n",
       "      <td>NaN</td>\n",
       "      <td>NaN</td>\n",
       "      <td>NaN</td>\n",
       "      <td>NaN</td>\n",
       "      <td>NaN</td>\n",
       "      <td>NaN</td>\n",
       "      <td>NaN</td>\n",
       "      <td>NaN</td>\n",
       "      <td>NaN</td>\n",
       "    </tr>\n",
       "    <tr>\n",
       "      <th>75%</th>\n",
       "      <td>7.609443e+07</td>\n",
       "      <td>NaN</td>\n",
       "      <td>NaN</td>\n",
       "      <td>NaN</td>\n",
       "      <td>3.699990e+05</td>\n",
       "      <td>NaN</td>\n",
       "      <td>NaN</td>\n",
       "      <td>3.700000e+05</td>\n",
       "      <td>NaN</td>\n",
       "      <td>NaN</td>\n",
       "      <td>...</td>\n",
       "      <td>NaN</td>\n",
       "      <td>NaN</td>\n",
       "      <td>NaN</td>\n",
       "      <td>NaN</td>\n",
       "      <td>NaN</td>\n",
       "      <td>NaN</td>\n",
       "      <td>NaN</td>\n",
       "      <td>NaN</td>\n",
       "      <td>NaN</td>\n",
       "      <td>NaN</td>\n",
       "    </tr>\n",
       "    <tr>\n",
       "      <th>max</th>\n",
       "      <td>7.611276e+07</td>\n",
       "      <td>9999.000000</td>\n",
       "      <td>3.960000e+06</td>\n",
       "      <td>9999.000000</td>\n",
       "      <td>3.600000e+07</td>\n",
       "      <td>2691.000000</td>\n",
       "      <td>1.000000</td>\n",
       "      <td>3.600000e+07</td>\n",
       "      <td>5010.00000</td>\n",
       "      <td>14.000000</td>\n",
       "      <td>...</td>\n",
       "      <td>1.0</td>\n",
       "      <td>1.0</td>\n",
       "      <td>1.0</td>\n",
       "      <td>1.0</td>\n",
       "      <td>1.0</td>\n",
       "      <td>1.0</td>\n",
       "      <td>1.0</td>\n",
       "      <td>1.0</td>\n",
       "      <td>1.0</td>\n",
       "      <td>1.0</td>\n",
       "    </tr>\n",
       "  </tbody>\n",
       "</table>\n",
       "<p>8 rows × 37 columns</p>\n",
       "</div>"
      ],
      "text/plain": [
       "                 Id           CCM    Tachometer          Year         Price  \\\n",
       "count  7.334400e+04  73248.000000  7.268200e+04  73338.000000  7.334400e+04   \n",
       "mean   7.607609e+07   1867.884925  1.275598e+05   2010.488587  3.173593e+05   \n",
       "std    2.117273e+04    678.670044  9.635746e+04    110.495126  4.534490e+05   \n",
       "min    7.603942e+07     10.000000  0.000000e+00   1998.000000  1.000000e+03   \n",
       "25%    7.605776e+07           NaN           NaN           NaN  9.800000e+04   \n",
       "50%    7.607609e+07           NaN           NaN           NaN  1.980000e+05   \n",
       "75%    7.609443e+07           NaN           NaN           NaN  3.699990e+05   \n",
       "max    7.611276e+07   9999.000000  3.960000e+06   9999.000000  3.600000e+07   \n",
       "\n",
       "             Region        Privat     PriceOrig        Power       Airbags  \\\n",
       "count  72333.000000  60276.000000  7.334400e+04  72901.00000  65430.000000   \n",
       "mean      51.987060      0.058863  3.176128e+05     97.29134      5.523705   \n",
       "std       64.133519      0.235369  4.534039e+05     62.12050      2.623404   \n",
       "min        0.000000      0.000000  1.000000e+03      4.00000      1.000000   \n",
       "25%             NaN           NaN  9.800000e+04          NaN           NaN   \n",
       "50%             NaN           NaN  1.980000e+05          NaN           NaN   \n",
       "75%             NaN           NaN  3.700000e+05          NaN           NaN   \n",
       "max     2691.000000      1.000000  3.600000e+07   5010.00000     14.000000   \n",
       "\n",
       "            ...        IsAlloyWheels  IsParkingSensor  IsNavigation  \\\n",
       "count       ...              42865.0          27606.0       15111.0   \n",
       "mean        ...                  1.0              1.0           1.0   \n",
       "std         ...                  0.0              0.0           0.0   \n",
       "min         ...                  1.0              1.0           1.0   \n",
       "25%         ...                  NaN              NaN           NaN   \n",
       "50%         ...                  NaN              NaN           NaN   \n",
       "75%         ...                  NaN              NaN           NaN   \n",
       "max         ...                  1.0              1.0           1.0   \n",
       "\n",
       "       IsRainSensor  IsPanoramicRoof  IsTrailerCoupling  IsCruiseControl  \\\n",
       "count       23501.0           3211.0            12297.0          36490.0   \n",
       "mean            1.0              1.0                1.0              1.0   \n",
       "std             0.0              0.0                0.0              0.0   \n",
       "min             1.0              1.0                1.0              1.0   \n",
       "25%             NaN              NaN                NaN              NaN   \n",
       "50%             NaN              NaN                NaN              NaN   \n",
       "75%             NaN              NaN                NaN              NaN   \n",
       "max             1.0              1.0                1.0              1.0   \n",
       "\n",
       "       IsHeatedSeats  IsIsoFix  IsNeverDemaged  \n",
       "count        25662.0   15143.0          1607.0  \n",
       "mean             1.0       1.0             1.0  \n",
       "std              0.0       0.0             0.0  \n",
       "min              1.0       1.0             1.0  \n",
       "25%              NaN       NaN             NaN  \n",
       "50%              NaN       NaN             NaN  \n",
       "75%              NaN       NaN             NaN  \n",
       "max              1.0       1.0             1.0  \n",
       "\n",
       "[8 rows x 37 columns]"
      ]
     },
     "execution_count": 28,
     "metadata": {},
     "output_type": "execute_result"
    }
   ],
   "source": [
    "df.describe()"
   ]
  },
  {
   "cell_type": "markdown",
   "metadata": {},
   "source": [
    "## NULL VALUES"
   ]
  },
  {
   "cell_type": "code",
   "execution_count": 29,
   "metadata": {
    "collapsed": false
   },
   "outputs": [
    {
     "data": {
      "text/plain": [
       "73344"
      ]
     },
     "execution_count": 29,
     "metadata": {},
     "output_type": "execute_result"
    }
   ],
   "source": [
    "sum([True for idx,row in df.iterrows() if any(row.isnull())])"
   ]
  },
  {
   "cell_type": "markdown",
   "metadata": {},
   "source": [
    "## Null values penetration by column:"
   ]
  },
  {
   "cell_type": "code",
   "execution_count": 33,
   "metadata": {
    "collapsed": false
   },
   "outputs": [
    {
     "data": {
      "text/plain": [
       "Id                     0.000000\n",
       "DateIn                 0.000000\n",
       "Http                   0.000000\n",
       "Make                   0.040903\n",
       "Model                  0.361311\n",
       "Body                   0.000000\n",
       "Fuel                   0.001363\n",
       "CCM                    0.130890\n",
       "Tachometer             0.902596\n",
       "Automat                2.714605\n",
       "Year                   0.008181\n",
       "Price                  0.000000\n",
       "Region                 1.378436\n",
       "Privat                17.817408\n",
       "Drive                 85.518925\n",
       "CountryCode            0.000000\n",
       "Currency               0.000000\n",
       "PostalCode             1.071662\n",
       "City                   0.902596\n",
       "PriceOrig              0.000000\n",
       "CurrencyOrig           0.000000\n",
       "Power                  0.604003\n",
       "Airbags               10.790249\n",
       "AirconditionId        11.214278\n",
       "Doors                  6.736747\n",
       "Emissions            100.000000\n",
       "IsFirstOwner           0.779887\n",
       "IsServiceBook          0.000000\n",
       "Seats                  7.576625\n",
       "STK                   23.358421\n",
       "Title                  0.000000\n",
       "PrivateSynth           0.000000\n",
       "Category               0.000000\n",
       "SellerNameID           8.355148\n",
       "DateInWeb              1.627945\n",
       "Euro                  54.887925\n",
       "Consumption           83.664649\n",
       "IsVat                 93.091459\n",
       "IsXenon               81.155923\n",
       "IsGPS                 99.867747\n",
       "IsInLeather           83.102912\n",
       "CountryOfOrigin       21.197371\n",
       "IsEcoTax              78.516307\n",
       "IsABS                 10.618455\n",
       "IsESP                 42.006163\n",
       "IsLeasing             90.465478\n",
       "IsAlloyWheels         41.556228\n",
       "IsParkingSensor       62.360929\n",
       "IsNavigation          79.397088\n",
       "IsRainSensor          67.957842\n",
       "IsPanoramicRoof       95.622000\n",
       "IsTrailerCoupling     83.233802\n",
       "IsCruiseControl       50.248146\n",
       "IsHeatedSeats         65.011453\n",
       "IsIsoFix              79.353458\n",
       "IsNeverDemaged        97.808955\n",
       "dtype: float64"
      ]
     },
     "execution_count": 33,
     "metadata": {},
     "output_type": "execute_result"
    }
   ],
   "source": [
    "df.isnull().sum(axis=0)*100/len(df)"
   ]
  },
  {
   "cell_type": "code",
   "execution_count": 57,
   "metadata": {
    "collapsed": true
   },
   "outputs": [],
   "source": [
    "mask_null_over_10_percent= df.isnull().sum(axis=0)*100/len(df)<10"
   ]
  },
  {
   "cell_type": "code",
   "execution_count": 58,
   "metadata": {
    "collapsed": false
   },
   "outputs": [
    {
     "data": {
      "text/plain": [
       "Id                    True\n",
       "DateIn                True\n",
       "Http                  True\n",
       "Make                  True\n",
       "Model                 True\n",
       "Body                  True\n",
       "Fuel                  True\n",
       "CCM                   True\n",
       "Tachometer            True\n",
       "Automat               True\n",
       "Year                  True\n",
       "Price                 True\n",
       "Region                True\n",
       "Privat               False\n",
       "Drive                False\n",
       "CountryCode           True\n",
       "Currency              True\n",
       "PostalCode            True\n",
       "City                  True\n",
       "PriceOrig             True\n",
       "CurrencyOrig          True\n",
       "Power                 True\n",
       "Airbags              False\n",
       "AirconditionId       False\n",
       "Doors                 True\n",
       "Emissions            False\n",
       "IsFirstOwner          True\n",
       "IsServiceBook         True\n",
       "Seats                 True\n",
       "STK                  False\n",
       "Title                 True\n",
       "PrivateSynth          True\n",
       "Category              True\n",
       "SellerNameID          True\n",
       "DateInWeb             True\n",
       "Euro                 False\n",
       "Consumption          False\n",
       "IsVat                False\n",
       "IsXenon              False\n",
       "IsGPS                False\n",
       "IsInLeather          False\n",
       "CountryOfOrigin      False\n",
       "IsEcoTax             False\n",
       "IsABS                False\n",
       "IsESP                False\n",
       "IsLeasing            False\n",
       "IsAlloyWheels        False\n",
       "IsParkingSensor      False\n",
       "IsNavigation         False\n",
       "IsRainSensor         False\n",
       "IsPanoramicRoof      False\n",
       "IsTrailerCoupling    False\n",
       "IsCruiseControl      False\n",
       "IsHeatedSeats        False\n",
       "IsIsoFix             False\n",
       "IsNeverDemaged       False\n",
       "dtype: bool"
      ]
     },
     "execution_count": 58,
     "metadata": {},
     "output_type": "execute_result"
    }
   ],
   "source": [
    "mask_null_over_10_percent"
   ]
  },
  {
   "cell_type": "code",
   "execution_count": 49,
   "metadata": {
    "collapsed": false
   },
   "outputs": [
    {
     "data": {
      "text/plain": [
       "56"
      ]
     },
     "execution_count": 49,
     "metadata": {},
     "output_type": "execute_result"
    }
   ],
   "source": [
    "len(mask_null_over_10_percent)"
   ]
  },
  {
   "cell_type": "code",
   "execution_count": 53,
   "metadata": {
    "collapsed": false
   },
   "outputs": [
    {
     "data": {
      "text/plain": [
       "(73344, 56)"
      ]
     },
     "execution_count": 53,
     "metadata": {},
     "output_type": "execute_result"
    }
   ],
   "source": [
    "df.shape"
   ]
  },
  {
   "cell_type": "code",
   "execution_count": 59,
   "metadata": {
    "collapsed": false
   },
   "outputs": [],
   "source": [
    "df_clean=df[mask_null_over_10_percent.index[mask_null_over_10_percent]]"
   ]
  },
  {
   "cell_type": "code",
   "execution_count": 60,
   "metadata": {
    "collapsed": false
   },
   "outputs": [
    {
     "data": {
      "text/plain": [
       "(73344, 29)"
      ]
     },
     "execution_count": 60,
     "metadata": {},
     "output_type": "execute_result"
    }
   ],
   "source": [
    "df_clean.shape"
   ]
  },
  {
   "cell_type": "code",
   "execution_count": 61,
   "metadata": {
    "collapsed": false
   },
   "outputs": [
    {
     "data": {
      "text/html": [
       "<div>\n",
       "<table border=\"1\" class=\"dataframe\">\n",
       "  <thead>\n",
       "    <tr style=\"text-align: right;\">\n",
       "      <th></th>\n",
       "      <th>Id</th>\n",
       "      <th>DateIn</th>\n",
       "      <th>Http</th>\n",
       "      <th>Make</th>\n",
       "      <th>Model</th>\n",
       "      <th>Body</th>\n",
       "      <th>Fuel</th>\n",
       "      <th>CCM</th>\n",
       "      <th>Tachometer</th>\n",
       "      <th>Automat</th>\n",
       "      <th>...</th>\n",
       "      <th>Power</th>\n",
       "      <th>Doors</th>\n",
       "      <th>IsFirstOwner</th>\n",
       "      <th>IsServiceBook</th>\n",
       "      <th>Seats</th>\n",
       "      <th>Title</th>\n",
       "      <th>PrivateSynth</th>\n",
       "      <th>Category</th>\n",
       "      <th>SellerNameID</th>\n",
       "      <th>DateInWeb</th>\n",
       "    </tr>\n",
       "  </thead>\n",
       "  <tbody>\n",
       "    <tr>\n",
       "      <th>0</th>\n",
       "      <td>76112740</td>\n",
       "      <td>02-10-2016</td>\n",
       "      <td>http://www.sauto.cz/osobni/detail/peugeot/307/...</td>\n",
       "      <td>Peugeot</td>\n",
       "      <td>307</td>\n",
       "      <td>Combi</td>\n",
       "      <td>Petrol</td>\n",
       "      <td>1587.0</td>\n",
       "      <td>329148.0</td>\n",
       "      <td>Manual</td>\n",
       "      <td>...</td>\n",
       "      <td>80.0</td>\n",
       "      <td>5.0</td>\n",
       "      <td>0.0</td>\n",
       "      <td>0</td>\n",
       "      <td>5.0</td>\n",
       "      <td>Peugeot 307 SW 1,6</td>\n",
       "      <td>107</td>\n",
       "      <td>1</td>\n",
       "      <td>1021.0</td>\n",
       "      <td>02-10-2016</td>\n",
       "    </tr>\n",
       "    <tr>\n",
       "      <th>1</th>\n",
       "      <td>76102112</td>\n",
       "      <td>01-10-2016</td>\n",
       "      <td>http://www.sauto.cz/osobni/detail/renault/mega...</td>\n",
       "      <td>Renault</td>\n",
       "      <td>Megane</td>\n",
       "      <td>Hatchback</td>\n",
       "      <td>Petrol</td>\n",
       "      <td>1598.0</td>\n",
       "      <td>175000.0</td>\n",
       "      <td>Manual</td>\n",
       "      <td>...</td>\n",
       "      <td>79.0</td>\n",
       "      <td>5.0</td>\n",
       "      <td>0.0</td>\n",
       "      <td>0</td>\n",
       "      <td>5.0</td>\n",
       "      <td>Renault M?gane 1,6 16V</td>\n",
       "      <td>1</td>\n",
       "      <td>1</td>\n",
       "      <td>NaN</td>\n",
       "      <td>01-10-2016</td>\n",
       "    </tr>\n",
       "    <tr>\n",
       "      <th>2</th>\n",
       "      <td>76102055</td>\n",
       "      <td>01-10-2016</td>\n",
       "      <td>http://www.sauto.cz/osobni/detail/skoda/felici...</td>\n",
       "      <td>Skoda</td>\n",
       "      <td>Felicia</td>\n",
       "      <td>Hatchback</td>\n",
       "      <td>Petrol</td>\n",
       "      <td>1300.0</td>\n",
       "      <td>94982.0</td>\n",
       "      <td>Manual</td>\n",
       "      <td>...</td>\n",
       "      <td>50.0</td>\n",
       "      <td>5.0</td>\n",
       "      <td>0.0</td>\n",
       "      <td>0</td>\n",
       "      <td>5.0</td>\n",
       "      <td>?koda Felicia 1.3, ?R,2.maj, Eko.zaplacen</td>\n",
       "      <td>107</td>\n",
       "      <td>1</td>\n",
       "      <td>240.0</td>\n",
       "      <td>01-10-2016</td>\n",
       "    </tr>\n",
       "    <tr>\n",
       "      <th>3</th>\n",
       "      <td>76107602</td>\n",
       "      <td>01-10-2016</td>\n",
       "      <td>http://www.sauto.cz/osobni/detail/citroen/saxo...</td>\n",
       "      <td>Citroen</td>\n",
       "      <td>Saxo</td>\n",
       "      <td>Hatchback</td>\n",
       "      <td>Petrol</td>\n",
       "      <td>1124.0</td>\n",
       "      <td>16900.0</td>\n",
       "      <td>Manual</td>\n",
       "      <td>...</td>\n",
       "      <td>44.0</td>\n",
       "      <td>NaN</td>\n",
       "      <td>0.0</td>\n",
       "      <td>0</td>\n",
       "      <td>NaN</td>\n",
       "      <td>Citro?n Saxo 1.1 (44 kW), nov STK</td>\n",
       "      <td>0</td>\n",
       "      <td>1</td>\n",
       "      <td>NaN</td>\n",
       "      <td>01-10-2016</td>\n",
       "    </tr>\n",
       "    <tr>\n",
       "      <th>4</th>\n",
       "      <td>76112710</td>\n",
       "      <td>01-10-2016</td>\n",
       "      <td>http://www.sauto.cz/osobni/detail/volkswagen/p...</td>\n",
       "      <td>VW</td>\n",
       "      <td>Passat</td>\n",
       "      <td>Sedan/Saloon</td>\n",
       "      <td>LPG</td>\n",
       "      <td>1781.0</td>\n",
       "      <td>264000.0</td>\n",
       "      <td>Manual</td>\n",
       "      <td>...</td>\n",
       "      <td>110.0</td>\n",
       "      <td>4.0</td>\n",
       "      <td>0.0</td>\n",
       "      <td>0</td>\n",
       "      <td>5.0</td>\n",
       "      <td>Volkswagen Passat 1.8T</td>\n",
       "      <td>1</td>\n",
       "      <td>1</td>\n",
       "      <td>NaN</td>\n",
       "      <td>01-10-2016</td>\n",
       "    </tr>\n",
       "  </tbody>\n",
       "</table>\n",
       "<p>5 rows × 29 columns</p>\n",
       "</div>"
      ],
      "text/plain": [
       "         Id      DateIn                                               Http  \\\n",
       "0  76112740  02-10-2016  http://www.sauto.cz/osobni/detail/peugeot/307/...   \n",
       "1  76102112  01-10-2016  http://www.sauto.cz/osobni/detail/renault/mega...   \n",
       "2  76102055  01-10-2016  http://www.sauto.cz/osobni/detail/skoda/felici...   \n",
       "3  76107602  01-10-2016  http://www.sauto.cz/osobni/detail/citroen/saxo...   \n",
       "4  76112710  01-10-2016  http://www.sauto.cz/osobni/detail/volkswagen/p...   \n",
       "\n",
       "      Make    Model          Body    Fuel     CCM  Tachometer Automat  \\\n",
       "0  Peugeot      307         Combi  Petrol  1587.0    329148.0  Manual   \n",
       "1  Renault   Megane     Hatchback  Petrol  1598.0    175000.0  Manual   \n",
       "2    Skoda  Felicia     Hatchback  Petrol  1300.0     94982.0  Manual   \n",
       "3  Citroen     Saxo     Hatchback  Petrol  1124.0     16900.0  Manual   \n",
       "4       VW   Passat  Sedan/Saloon     LPG  1781.0    264000.0  Manual   \n",
       "\n",
       "      ...      Power  Doors  IsFirstOwner IsServiceBook Seats  \\\n",
       "0     ...       80.0    5.0           0.0             0   5.0   \n",
       "1     ...       79.0    5.0           0.0             0   5.0   \n",
       "2     ...       50.0    5.0           0.0             0   5.0   \n",
       "3     ...       44.0    NaN           0.0             0   NaN   \n",
       "4     ...      110.0    4.0           0.0             0   5.0   \n",
       "\n",
       "                                       Title PrivateSynth  Category  \\\n",
       "0                         Peugeot 307 SW 1,6          107         1   \n",
       "1                     Renault M?gane 1,6 16V            1         1   \n",
       "2  ?koda Felicia 1.3, ?R,2.maj, Eko.zaplacen          107         1   \n",
       "3         Citro?n Saxo 1.1 (44 kW), nov STK            0         1   \n",
       "4                     Volkswagen Passat 1.8T            1         1   \n",
       "\n",
       "  SellerNameID   DateInWeb  \n",
       "0       1021.0  02-10-2016  \n",
       "1          NaN  01-10-2016  \n",
       "2        240.0  01-10-2016  \n",
       "3          NaN  01-10-2016  \n",
       "4          NaN  01-10-2016  \n",
       "\n",
       "[5 rows x 29 columns]"
      ]
     },
     "execution_count": 61,
     "metadata": {},
     "output_type": "execute_result"
    }
   ],
   "source": [
    "df_clean[:5]"
   ]
  },
  {
   "cell_type": "code",
   "execution_count": 62,
   "metadata": {
    "collapsed": false
   },
   "outputs": [
    {
     "data": {
      "text/plain": [
       "['Id',\n",
       " 'DateIn',\n",
       " 'Http',\n",
       " 'Make',\n",
       " 'Model',\n",
       " 'Body',\n",
       " 'Fuel',\n",
       " 'CCM',\n",
       " 'Tachometer',\n",
       " 'Automat',\n",
       " 'Year',\n",
       " 'Price',\n",
       " 'Region',\n",
       " 'CountryCode',\n",
       " 'Currency',\n",
       " 'PostalCode',\n",
       " 'City',\n",
       " 'PriceOrig',\n",
       " 'CurrencyOrig',\n",
       " 'Power',\n",
       " 'Doors',\n",
       " 'IsFirstOwner',\n",
       " 'IsServiceBook',\n",
       " 'Seats',\n",
       " 'Title',\n",
       " 'PrivateSynth',\n",
       " 'Category',\n",
       " 'SellerNameID',\n",
       " 'DateInWeb']"
      ]
     },
     "execution_count": 62,
     "metadata": {},
     "output_type": "execute_result"
    }
   ],
   "source": [
    "df_clean.columns.values.tolist()"
   ]
  },
  {
   "cell_type": "code",
   "execution_count": 63,
   "metadata": {
    "collapsed": false
   },
   "outputs": [
    {
     "data": {
      "text/plain": [
       "Id               0.000000\n",
       "DateIn           0.000000\n",
       "Http             0.000000\n",
       "Make             0.040903\n",
       "Model            0.361311\n",
       "Body             0.000000\n",
       "Fuel             0.001363\n",
       "CCM              0.130890\n",
       "Tachometer       0.902596\n",
       "Automat          2.714605\n",
       "Year             0.008181\n",
       "Price            0.000000\n",
       "Region           1.378436\n",
       "CountryCode      0.000000\n",
       "Currency         0.000000\n",
       "PostalCode       1.071662\n",
       "City             0.902596\n",
       "PriceOrig        0.000000\n",
       "CurrencyOrig     0.000000\n",
       "Power            0.604003\n",
       "Doors            6.736747\n",
       "IsFirstOwner     0.779887\n",
       "IsServiceBook    0.000000\n",
       "Seats            7.576625\n",
       "Title            0.000000\n",
       "PrivateSynth     0.000000\n",
       "Category         0.000000\n",
       "SellerNameID     8.355148\n",
       "DateInWeb        1.627945\n",
       "dtype: float64"
      ]
     },
     "execution_count": 63,
     "metadata": {},
     "output_type": "execute_result"
    }
   ],
   "source": [
    "df_clean.isnull().sum(axis=0)*100/len(df_clean)"
   ]
  },
  {
   "cell_type": "markdown",
   "metadata": {},
   "source": [
    "## Impute missing values"
   ]
  },
  {
   "cell_type": "markdown",
   "metadata": {},
   "source": [
    "## Impute for numeric columns with mean"
   ]
  },
  {
   "cell_type": "code",
   "execution_count": 66,
   "metadata": {
    "collapsed": false
   },
   "outputs": [],
   "source": [
    "df_imputed=df_clean.fillna(df_clean.mean())"
   ]
  },
  {
   "cell_type": "code",
   "execution_count": 67,
   "metadata": {
    "collapsed": false
   },
   "outputs": [
    {
     "data": {
      "text/plain": [
       "Id               0.000000\n",
       "DateIn           0.000000\n",
       "Http             0.000000\n",
       "Make             0.040903\n",
       "Model            0.361311\n",
       "Body             0.000000\n",
       "Fuel             0.001363\n",
       "CCM              0.000000\n",
       "Tachometer       0.000000\n",
       "Automat          2.714605\n",
       "Year             0.000000\n",
       "Price            0.000000\n",
       "Region           0.000000\n",
       "CountryCode      0.000000\n",
       "Currency         0.000000\n",
       "PostalCode       1.071662\n",
       "City             0.902596\n",
       "PriceOrig        0.000000\n",
       "CurrencyOrig     0.000000\n",
       "Power            0.000000\n",
       "Doors            0.000000\n",
       "IsFirstOwner     0.000000\n",
       "IsServiceBook    0.000000\n",
       "Seats            0.000000\n",
       "Title            0.000000\n",
       "PrivateSynth     0.000000\n",
       "Category         0.000000\n",
       "SellerNameID     0.000000\n",
       "DateInWeb        1.627945\n",
       "dtype: float64"
      ]
     },
     "execution_count": 67,
     "metadata": {},
     "output_type": "execute_result"
    }
   ],
   "source": [
    "df_imputed.isnull().sum(axis=0)*100/len(df_imputed)"
   ]
  },
  {
   "cell_type": "code",
   "execution_count": 70,
   "metadata": {
    "collapsed": true
   },
   "outputs": [],
   "source": [
    "df_imputed = df_imputed.apply(lambda x:x.fillna(x.value_counts().index[0]))"
   ]
  },
  {
   "cell_type": "markdown",
   "metadata": {},
   "source": [
    "## Impute for categotical columns:"
   ]
  },
  {
   "cell_type": "code",
   "execution_count": 71,
   "metadata": {
    "collapsed": false
   },
   "outputs": [
    {
     "data": {
      "text/plain": [
       "Id               0.0\n",
       "DateIn           0.0\n",
       "Http             0.0\n",
       "Make             0.0\n",
       "Model            0.0\n",
       "Body             0.0\n",
       "Fuel             0.0\n",
       "CCM              0.0\n",
       "Tachometer       0.0\n",
       "Automat          0.0\n",
       "Year             0.0\n",
       "Price            0.0\n",
       "Region           0.0\n",
       "CountryCode      0.0\n",
       "Currency         0.0\n",
       "PostalCode       0.0\n",
       "City             0.0\n",
       "PriceOrig        0.0\n",
       "CurrencyOrig     0.0\n",
       "Power            0.0\n",
       "Doors            0.0\n",
       "IsFirstOwner     0.0\n",
       "IsServiceBook    0.0\n",
       "Seats            0.0\n",
       "Title            0.0\n",
       "PrivateSynth     0.0\n",
       "Category         0.0\n",
       "SellerNameID     0.0\n",
       "DateInWeb        0.0\n",
       "dtype: float64"
      ]
     },
     "execution_count": 71,
     "metadata": {},
     "output_type": "execute_result"
    }
   ],
   "source": [
    "df_imputed.isnull().sum(axis=0)*100/len(df_imputed)"
   ]
  },
  {
   "cell_type": "markdown",
   "metadata": {},
   "source": [
    "## Is there a relation between KM and Price?"
   ]
  },
  {
   "cell_type": "code",
   "execution_count": 72,
   "metadata": {
    "collapsed": false
   },
   "outputs": [
    {
     "data": {
      "text/plain": [
       "<matplotlib.axes._subplots.AxesSubplot at 0x23b00155390>"
      ]
     },
     "execution_count": 72,
     "metadata": {},
     "output_type": "execute_result"
    },
    {
     "data": {
      "image/png": "[encoded data removed]",
      "text/plain": [
       "<matplotlib.figure.Figure at 0x23b733430f0>"
      ]
     },
     "metadata": {},
     "output_type": "display_data"
    },
    {
     "data": {
      "image/png": "[encoded data removed]",
      "text/plain": [
       "<matplotlib.figure.Figure at 0x23b001b5320>"
      ]
     },
     "metadata": {},
     "output_type": "display_data"
    }
   ],
   "source": [
    "pysqldf = lambda q: sqldf(q, globals())\n",
    "\n",
    "q  = \"\"\"\n",
    "SELECT\n",
    "  round(tachometer/1000,0) as tachometer, avg(PriceOrig) as Price, count(Id) as Ads\n",
    "FROM\n",
    "  df_imputed\n",
    "where \n",
    "round(tachometer/1000,0)<400\n",
    "and round(tachometer/1000,0)>0\n",
    "GROUP BY\n",
    "round(tachometer/1000,0)\n",
    "--having\n",
    " ;\n",
    "\"\"\"\n",
    "\n",
    "df2 = pysqldf(q)\n",
    "df2.plot.scatter(x='tachometer', y='Price')\n",
    "df2.plot(x='tachometer', y='Ads')"
   ]
  },
  {
   "cell_type": "code",
   "execution_count": 73,
   "metadata": {
    "collapsed": false
   },
   "outputs": [
    {
     "data": {
      "image/png": "[encoded data removed]",
      "text/plain": [
       "<matplotlib.figure.Figure at 0x23b002cd9e8>"
      ]
     },
     "metadata": {},
     "output_type": "display_data"
    }
   ],
   "source": [
    "sns.regplot(\"tachometer\", \"Price\", data=df2, robust=True, ci=95, color=\"seagreen\")\n",
    "sns.despine()"
   ]
  },
  {
   "cell_type": "code",
   "execution_count": null,
   "metadata": {
    "collapsed": true
   },
   "outputs": [],
   "source": []
  }
 ],
 "metadata": {
  "anaconda-cloud": {},
  "kernelspec": {
   "display_name": "Python [conda root]",
   "language": "python",
   "name": "conda-root-py"
  },
  "language_info": {
   "codemirror_mode": {
    "name": "ipython",
    "version": 3
   },
   "file_extension": ".py",
   "mimetype": "text/x-python",
   "name": "python",
   "nbconvert_exporter": "python",
   "pygments_lexer": "ipython3",
   "version": "3.5.2"
  }
 },
 "nbformat": 4,
 "nbformat_minor": 0
}
